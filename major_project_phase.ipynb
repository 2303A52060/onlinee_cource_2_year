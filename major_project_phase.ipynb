{
  "nbformat": 4,
  "nbformat_minor": 0,
  "metadata": {
    "colab": {
      "provenance": [],
      "authorship_tag": "ABX9TyOTDveckK2L2YKKohuenyzY",
      "include_colab_link": true
    },
    "kernelspec": {
      "name": "python3",
      "display_name": "Python 3"
    },
    "language_info": {
      "name": "python"
    }
  },
  "cells": [
    {
      "cell_type": "markdown",
      "metadata": {
        "id": "view-in-github",
        "colab_type": "text"
      },
      "source": [
        "<a href=\"https://colab.research.google.com/github/2303A52060/onlinee_cource_2_year/blob/main/major_project_phase.ipynb\" target=\"_parent\"><img src=\"https://colab.research.google.com/assets/colab-badge.svg\" alt=\"Open In Colab\"/></a>"
      ]
    },
    {
      "cell_type": "code",
      "execution_count": 3,
      "metadata": {
        "colab": {
          "base_uri": "https://localhost:8080/"
        },
        "id": "z33mLLPA7AZ3",
        "outputId": "b9f46a60-f944-41c5-ca2c-b1e7a61a3cc2"
      },
      "outputs": [
        {
          "output_type": "stream",
          "name": "stderr",
          "text": [
            "[nltk_data] Downloading package vader_lexicon to /root/nltk_data...\n",
            "[nltk_data]   Package vader_lexicon is already up-to-date!\n"
          ]
        },
        {
          "output_type": "stream",
          "name": "stdout",
          "text": [
            "Welcome to the Sentiment Analysis Chatbot!\n",
            "Type 'exit' to end the conversation.\n",
            "You: hi\n",
            "Chatbot: Thank you for sharing! What would you like to talk about?\n",
            "You: ezit\n",
            "Chatbot: Thank you for sharing! What would you like to talk about?\n",
            "You: exit\n",
            "Chatbot: Goodbye!\n"
          ]
        }
      ],
      "source": [
        "import nltk\n",
        "from nltk.sentiment import SentimentIntensityAnalyzer\n",
        "nltk.download('vader_lexicon')\n",
        "sia = SentimentIntensityAnalyzer()\n",
        "\n",
        "def get_response(user_input):\n",
        "    sentiment_score = sia.polarity_scores(user_input)\n",
        "    compound_score = sentiment_score['compound']\n",
        "    if compound_score >= 0.05:\n",
        "        return \"I'm glad to hear that! What else can I do for you?\"\n",
        "    elif compound_score <= -0.05:\n",
        "        return \"I'm sorry to hear that. How can I assist you?\"\n",
        "    else:\n",
        "        return \"Thank you for sharing! What would you like to talk about?\"\n",
        "\n",
        "if __name__ == '__main__':\n",
        "    print(\"Welcome to the Sentiment Analysis Chatbot!\")\n",
        "    print(\"Type 'exit' to end the conversation.\")\n",
        "    while True:\n",
        "        user_input = input(\"You: \")\n",
        "\n",
        "        if user_input.lower() == 'exit':\n",
        "            print(\"Chatbot: Goodbye!\")\n",
        "            break\n",
        "        response = get_response(user_input)\n",
        "        print(f\"Chatbot: {response}\")"
      ]
    }
  ]
}